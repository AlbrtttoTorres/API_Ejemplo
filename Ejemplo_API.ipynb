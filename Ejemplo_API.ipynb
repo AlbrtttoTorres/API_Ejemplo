{
 "cells": [
  {
   "cell_type": "code",
   "execution_count": 3,
   "metadata": {},
   "outputs": [],
   "source": [
    "from fastapi import FastAPI\n",
    "import pickle\n",
    "import numpy as np\n",
    "\n",
    "app = FastAPI()\n",
    "\n",
    "# Cargar el modelo entrenado\n",
    "model = pickle.load(open(r'C:\\Users\\alber\\OneDrive\\Escritorio\\dataScience\\final_rf_model.pkl', \"rb\"))\n",
    "\n",
    "@app.get(\"/\")\n",
    "def root():\n",
    "    return {\n",
    "        \"message\": \"Bienvenido a la API de predicción.\",\n",
    "        \"uso\": \"GET /predict?x1=...&x2=...\",\n",
    "        \"endpoint_extra\": \"/hello (comentado, para redespliegue)\"\n",
    "    }\n",
    "\n",
    "@app.get(\"/predict\")\n",
    "def predict(x1: float, x2: float):\n",
    "    features = np.array([[x1, x2]])\n",
    "    prediction = model.predict(features)\n",
    "    return {\"predicción\": int(prediction[0])}\n",
    "\n",
    "# Endpoint comentado para redespliegue durante la exposición\n",
    "# @app.get(\"/hello\")\n",
    "# def hello():\n",
    "#     return {\"mensaje\": \"Hola desde el endpoint secreto\"}\n"
   ]
  }
 ],
 "metadata": {
  "kernelspec": {
   "display_name": "Mapache",
   "language": "python",
   "name": "python3"
  },
  "language_info": {
   "codemirror_mode": {
    "name": "ipython",
    "version": 3
   },
   "file_extension": ".py",
   "mimetype": "text/x-python",
   "name": "python",
   "nbconvert_exporter": "python",
   "pygments_lexer": "ipython3",
   "version": "3.12.7"
  }
 },
 "nbformat": 4,
 "nbformat_minor": 2
}
